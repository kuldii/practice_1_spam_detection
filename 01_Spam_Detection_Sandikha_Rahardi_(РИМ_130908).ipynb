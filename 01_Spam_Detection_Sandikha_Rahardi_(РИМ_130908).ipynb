{
  "cells": [
    {
      "cell_type": "markdown",
      "metadata": {},
      "source": [
        "# Student Information\n",
        "\n",
        "* Name : Sandikha Rahardi\n",
        "* Group : РИМ-130908"
      ]
    },
    {
      "cell_type": "markdown",
      "metadata": {
        "id": "-V7UE1n0_A_j"
      },
      "source": [
        "# Lab assignment for the \"Classification\" module\n",
        "\n",
        "The goal of this lesson is to develop a model that predicts the class of a message: \"spam\" or \"not-spam\"\n",
        "\n",
        "In this lesson, we will receive the initial dataset, look at the data, do some preprocessing, and then try to apply a self-written K-nearest neighbors model to it"
      ]
    },
    {
      "cell_type": "markdown",
      "metadata": {
        "id": "X46F0XINcFmu"
      },
      "source": [
        "# About Dataset"
      ]
    },
    {
      "cell_type": "markdown",
      "metadata": {},
      "source": [
        "https://www.kaggle.com/datasets/prishasawhney/email-classification-ham-spam"
      ]
    },
    {
      "cell_type": "markdown",
      "metadata": {},
      "source": [
        "The Email Classification dataset has been synthetically generated. This meticulously curated dataset is designed to enhance your natural language processing prowess. It comprises 2 columns.\n",
        "\n",
        "* Email: This column contains the textual description of the email/ message, offering a diverse range of vocabulary and language patterns.\n",
        "* Label: Each review is classified into either Ham (non-spam) or Spam.\n",
        "\n",
        "You can use this dataset to fine-tune existing pre-trained Large Language Models, create your own NLP models, and perform tasks of text-classification using techniques such as Logistic Regression, Naive Bayes, Recursive Neural Network (RNN), and various other methods to hone your NLP skills.\n",
        "\n",
        "Useful Tip: For better use, you can map the label column to numeric values. You can also create N-gram models and tables for the same to analyze the dataset better."
      ]
    },
    {
      "cell_type": "markdown",
      "metadata": {},
      "source": [
        "# Import Libraries"
      ]
    },
    {
      "cell_type": "code",
      "execution_count": 1,
      "metadata": {
        "id": "7_lXyRbQ_2Hi"
      },
      "outputs": [
        {
          "name": "stderr",
          "output_type": "stream",
          "text": [
            "[nltk_data] Downloading package stopwords to\n",
            "[nltk_data]     /Users/kuldii/nltk_data...\n",
            "[nltk_data]   Package stopwords is already up-to-date!\n"
          ]
        }
      ],
      "source": [
        "import nltk\n",
        "import spacy\n",
        "import numpy as np\n",
        "import pandas as pd\n",
        "import matplotlib.pyplot as plt\n",
        "\n",
        "nltk.download('stopwords')\n",
        "\n",
        "from nltk.stem import PorterStemmer\n",
        "from sklearn.model_selection import GridSearchCV\n",
        "from sklearn.neighbors import KNeighborsClassifier\n",
        "from sklearn.base import BaseEstimator, ClassifierMixin\n",
        "from sklearn.feature_extraction.text import CountVectorizer\n",
        "from sklearn.model_selection import train_test_split, cross_val_score\n",
        "from sklearn.metrics import classification_report, accuracy_score, confusion_matrix"
      ]
    },
    {
      "cell_type": "code",
      "execution_count": 2,
      "metadata": {},
      "outputs": [
        {
          "name": "stdout",
          "output_type": "stream",
          "text": [
            "Collecting en-core-web-sm==3.8.0\n",
            "  Downloading https://github.com/explosion/spacy-models/releases/download/en_core_web_sm-3.8.0/en_core_web_sm-3.8.0-py3-none-any.whl (12.8 MB)\n",
            "\u001b[2K     \u001b[90m━━━━━━━━━━━━━━━━━━━━━━━━━━━━━━━━━━━━━━━━\u001b[0m \u001b[32m12.8/12.8 MB\u001b[0m \u001b[31m1.7 MB/s\u001b[0m eta \u001b[36m0:00:00\u001b[0m00:01\u001b[0m00:01\u001b[0mm\n",
            "\u001b[?25h\n",
            "\u001b[1m[\u001b[0m\u001b[34;49mnotice\u001b[0m\u001b[1;39;49m]\u001b[0m\u001b[39;49m A new release of pip is available: \u001b[0m\u001b[31;49m24.0\u001b[0m\u001b[39;49m -> \u001b[0m\u001b[32;49m24.2\u001b[0m\n",
            "\u001b[1m[\u001b[0m\u001b[34;49mnotice\u001b[0m\u001b[1;39;49m]\u001b[0m\u001b[39;49m To update, run: \u001b[0m\u001b[32;49mpip install --upgrade pip\u001b[0m\n",
            "\u001b[38;5;2m✔ Download and installation successful\u001b[0m\n",
            "You can now load the package via spacy.load('en_core_web_sm')\n"
          ]
        }
      ],
      "source": [
        "!python -m spacy download en_core_web_sm"
      ]
    },
    {
      "cell_type": "code",
      "execution_count": 3,
      "metadata": {
        "colab": {
          "base_uri": "https://localhost:8080/",
          "height": 206
        },
        "id": "UzwnBlzq_2J5",
        "outputId": "38ae7b00-e634-4726-f113-ab97aa59cd6d"
      },
      "outputs": [
        {
          "data": {
            "text/html": [
              "<div>\n",
              "<style scoped>\n",
              "    .dataframe tbody tr th:only-of-type {\n",
              "        vertical-align: middle;\n",
              "    }\n",
              "\n",
              "    .dataframe tbody tr th {\n",
              "        vertical-align: top;\n",
              "    }\n",
              "\n",
              "    .dataframe thead th {\n",
              "        text-align: right;\n",
              "    }\n",
              "</style>\n",
              "<table border=\"1\" class=\"dataframe\">\n",
              "  <thead>\n",
              "    <tr style=\"text-align: right;\">\n",
              "      <th></th>\n",
              "      <th>email</th>\n",
              "      <th>label</th>\n",
              "    </tr>\n",
              "  </thead>\n",
              "  <tbody>\n",
              "    <tr>\n",
              "      <th>0</th>\n",
              "      <td>Upgrade to our premium plan for exclusive acce...</td>\n",
              "      <td>ham</td>\n",
              "    </tr>\n",
              "    <tr>\n",
              "      <th>1</th>\n",
              "      <td>Happy holidays from our team! Wishing you joy ...</td>\n",
              "      <td>ham</td>\n",
              "    </tr>\n",
              "    <tr>\n",
              "      <th>2</th>\n",
              "      <td>We're hiring! Check out our career opportuniti...</td>\n",
              "      <td>ham</td>\n",
              "    </tr>\n",
              "    <tr>\n",
              "      <th>3</th>\n",
              "      <td>Your Amazon account has been locked. Click her...</td>\n",
              "      <td>spam</td>\n",
              "    </tr>\n",
              "    <tr>\n",
              "      <th>4</th>\n",
              "      <td>Your opinion matters! Take our survey and help...</td>\n",
              "      <td>ham</td>\n",
              "    </tr>\n",
              "  </tbody>\n",
              "</table>\n",
              "</div>"
            ],
            "text/plain": [
              "                                               email label\n",
              "0  Upgrade to our premium plan for exclusive acce...   ham\n",
              "1  Happy holidays from our team! Wishing you joy ...   ham\n",
              "2  We're hiring! Check out our career opportuniti...   ham\n",
              "3  Your Amazon account has been locked. Click her...  spam\n",
              "4  Your opinion matters! Take our survey and help...   ham"
            ]
          },
          "execution_count": 3,
          "metadata": {},
          "output_type": "execute_result"
        }
      ],
      "source": [
        "df = pd.read_csv(\"data/email_classification.csv\")\n",
        "df.head()"
      ]
    },
    {
      "cell_type": "markdown",
      "metadata": {
        "id": "qQWy1QOnBjyK"
      },
      "source": [
        "# Data preprocessing"
      ]
    },
    {
      "cell_type": "markdown",
      "metadata": {
        "id": "07wDOsG9cJkf"
      },
      "source": [
        "## Data Evaluation"
      ]
    },
    {
      "cell_type": "markdown",
      "metadata": {
        "id": "OMEkok2vZz4_"
      },
      "source": [
        "Let's see how much data we have."
      ]
    },
    {
      "cell_type": "code",
      "execution_count": 4,
      "metadata": {
        "colab": {
          "base_uri": "https://localhost:8080/"
        },
        "id": "LuGWVzoQ_2MW",
        "outputId": "4d877be7-1d65-428d-c853-c57cf8945d8f"
      },
      "outputs": [
        {
          "data": {
            "text/plain": [
              "(179, 2)"
            ]
          },
          "execution_count": 4,
          "metadata": {},
          "output_type": "execute_result"
        }
      ],
      "source": [
        "df.shape"
      ]
    },
    {
      "cell_type": "code",
      "execution_count": 5,
      "metadata": {
        "colab": {
          "base_uri": "https://localhost:8080/"
        },
        "id": "8-m0ldQGAz4h",
        "outputId": "d0268adf-bc45-4d69-ff9f-cd868447f216"
      },
      "outputs": [
        {
          "name": "stdout",
          "output_type": "stream",
          "text": [
            "<class 'pandas.core.frame.DataFrame'>\n",
            "RangeIndex: 179 entries, 0 to 178\n",
            "Data columns (total 2 columns):\n",
            " #   Column  Non-Null Count  Dtype \n",
            "---  ------  --------------  ----- \n",
            " 0   email   179 non-null    object\n",
            " 1   label   179 non-null    object\n",
            "dtypes: object(2)\n",
            "memory usage: 2.9+ KB\n"
          ]
        }
      ],
      "source": [
        "df.info()"
      ]
    },
    {
      "cell_type": "code",
      "execution_count": 6,
      "metadata": {},
      "outputs": [
        {
          "data": {
            "text/plain": [
              "email    0\n",
              "label    0\n",
              "dtype: int64"
            ]
          },
          "execution_count": 6,
          "metadata": {},
          "output_type": "execute_result"
        }
      ],
      "source": [
        "df.isnull().sum()"
      ]
    },
    {
      "cell_type": "code",
      "execution_count": 7,
      "metadata": {},
      "outputs": [
        {
          "data": {
            "text/plain": [
              "label\n",
              "ham     100\n",
              "spam     79\n",
              "Name: count, dtype: int64"
            ]
          },
          "execution_count": 7,
          "metadata": {},
          "output_type": "execute_result"
        }
      ],
      "source": [
        "df[\"label\"].value_counts()"
      ]
    },
    {
      "cell_type": "markdown",
      "metadata": {
        "id": "J09SISkPci-8"
      },
      "source": [
        "## Creating Features"
      ]
    },
    {
      "cell_type": "markdown",
      "metadata": {
        "id": "j1qd87decwPT"
      },
      "source": [
        "The original data was the message text. Is it a lot or a little? Enough. But let's try to add more data that will help us separate regular messages from advertising ones - for example, let's see how the length of text messages is distributed in each category"
      ]
    },
    {
      "cell_type": "code",
      "execution_count": 8,
      "metadata": {
        "id": "yAKKR-C8cnQe"
      },
      "outputs": [],
      "source": [
        "df['length'] = df['email'].apply(len)"
      ]
    },
    {
      "cell_type": "code",
      "execution_count": 9,
      "metadata": {
        "colab": {
          "base_uri": "https://localhost:8080/",
          "height": 143
        },
        "id": "piJN1eELeGt5",
        "outputId": "9be4da50-5663-4466-cf58-9bf9ed46ae12"
      },
      "outputs": [
        {
          "data": {
            "text/html": [
              "<div>\n",
              "<style scoped>\n",
              "    .dataframe tbody tr th:only-of-type {\n",
              "        vertical-align: middle;\n",
              "    }\n",
              "\n",
              "    .dataframe tbody tr th {\n",
              "        vertical-align: top;\n",
              "    }\n",
              "\n",
              "    .dataframe thead th {\n",
              "        text-align: right;\n",
              "    }\n",
              "</style>\n",
              "<table border=\"1\" class=\"dataframe\">\n",
              "  <thead>\n",
              "    <tr style=\"text-align: right;\">\n",
              "      <th></th>\n",
              "      <th>email</th>\n",
              "      <th>label</th>\n",
              "      <th>length</th>\n",
              "    </tr>\n",
              "  </thead>\n",
              "  <tbody>\n",
              "    <tr>\n",
              "      <th>0</th>\n",
              "      <td>Upgrade to our premium plan for exclusive acce...</td>\n",
              "      <td>ham</td>\n",
              "      <td>81</td>\n",
              "    </tr>\n",
              "    <tr>\n",
              "      <th>1</th>\n",
              "      <td>Happy holidays from our team! Wishing you joy ...</td>\n",
              "      <td>ham</td>\n",
              "      <td>73</td>\n",
              "    </tr>\n",
              "    <tr>\n",
              "      <th>2</th>\n",
              "      <td>We're hiring! Check out our career opportuniti...</td>\n",
              "      <td>ham</td>\n",
              "      <td>75</td>\n",
              "    </tr>\n",
              "    <tr>\n",
              "      <th>3</th>\n",
              "      <td>Your Amazon account has been locked. Click her...</td>\n",
              "      <td>spam</td>\n",
              "      <td>83</td>\n",
              "    </tr>\n",
              "    <tr>\n",
              "      <th>4</th>\n",
              "      <td>Your opinion matters! Take our survey and help...</td>\n",
              "      <td>ham</td>\n",
              "      <td>74</td>\n",
              "    </tr>\n",
              "  </tbody>\n",
              "</table>\n",
              "</div>"
            ],
            "text/plain": [
              "                                               email label  length\n",
              "0  Upgrade to our premium plan for exclusive acce...   ham      81\n",
              "1  Happy holidays from our team! Wishing you joy ...   ham      73\n",
              "2  We're hiring! Check out our career opportuniti...   ham      75\n",
              "3  Your Amazon account has been locked. Click her...  spam      83\n",
              "4  Your opinion matters! Take our survey and help...   ham      74"
            ]
          },
          "execution_count": 9,
          "metadata": {},
          "output_type": "execute_result"
        }
      ],
      "source": [
        "df.head()"
      ]
    },
    {
      "cell_type": "code",
      "execution_count": 10,
      "metadata": {
        "colab": {
          "base_uri": "https://localhost:8080/",
          "height": 289
        },
        "id": "lYTizoKYcsY4",
        "outputId": "7ad4295d-70d7-41ef-e342-a8fa4c2130de"
      },
      "outputs": [
        {
          "data": {
            "image/png": "[encoded data removed]",
            "text/plain": [
              "<Figure size 1200x400 with 2 Axes>"
            ]
          },
          "metadata": {},
          "output_type": "display_data"
        }
      ],
      "source": [
        "df.hist(column='length',by='label',bins=20,figsize=(12,4)); # histogram generation\n",
        "plt.xlim(50,120); # histogram limitation (so that both graphs are on the same scale)"
      ]
    },
    {
      "cell_type": "markdown",
      "metadata": {
        "id": "smywWcQjeSPg"
      },
      "source": [
        "It can be seen that although length is not a dividing feature, useful information can be obtained from it."
      ]
    },
    {
      "cell_type": "markdown",
      "metadata": {
        "id": "uYoRjEi1a_UM"
      },
      "source": [
        "## Encoding of names in one-hot"
      ]
    },
    {
      "cell_type": "markdown",
      "metadata": {
        "id": "pSvMrvvje0eE"
      },
      "source": [
        "For ease of use of the model in the future, we will replace the text names of classes with numbers in the form of a unitary code. Its peculiarity is that the number contains only one unit, the location of which determines the class of the object"
      ]
    },
    {
      "cell_type": "code",
      "execution_count": 11,
      "metadata": {},
      "outputs": [
        {
          "data": {
            "text/html": [
              "<div>\n",
              "<style scoped>\n",
              "    .dataframe tbody tr th:only-of-type {\n",
              "        vertical-align: middle;\n",
              "    }\n",
              "\n",
              "    .dataframe tbody tr th {\n",
              "        vertical-align: top;\n",
              "    }\n",
              "\n",
              "    .dataframe thead th {\n",
              "        text-align: right;\n",
              "    }\n",
              "</style>\n",
              "<table border=\"1\" class=\"dataframe\">\n",
              "  <thead>\n",
              "    <tr style=\"text-align: right;\">\n",
              "      <th></th>\n",
              "      <th>email</th>\n",
              "      <th>label</th>\n",
              "      <th>length</th>\n",
              "      <th>spam</th>\n",
              "    </tr>\n",
              "  </thead>\n",
              "  <tbody>\n",
              "    <tr>\n",
              "      <th>0</th>\n",
              "      <td>Upgrade to our premium plan for exclusive acce...</td>\n",
              "      <td>ham</td>\n",
              "      <td>81</td>\n",
              "      <td>0</td>\n",
              "    </tr>\n",
              "    <tr>\n",
              "      <th>1</th>\n",
              "      <td>Happy holidays from our team! Wishing you joy ...</td>\n",
              "      <td>ham</td>\n",
              "      <td>73</td>\n",
              "      <td>0</td>\n",
              "    </tr>\n",
              "    <tr>\n",
              "      <th>2</th>\n",
              "      <td>We're hiring! Check out our career opportuniti...</td>\n",
              "      <td>ham</td>\n",
              "      <td>75</td>\n",
              "      <td>0</td>\n",
              "    </tr>\n",
              "    <tr>\n",
              "      <th>3</th>\n",
              "      <td>Your Amazon account has been locked. Click her...</td>\n",
              "      <td>spam</td>\n",
              "      <td>83</td>\n",
              "      <td>1</td>\n",
              "    </tr>\n",
              "    <tr>\n",
              "      <th>4</th>\n",
              "      <td>Your opinion matters! Take our survey and help...</td>\n",
              "      <td>ham</td>\n",
              "      <td>74</td>\n",
              "      <td>0</td>\n",
              "    </tr>\n",
              "  </tbody>\n",
              "</table>\n",
              "</div>"
            ],
            "text/plain": [
              "                                               email label  length  spam\n",
              "0  Upgrade to our premium plan for exclusive acce...   ham      81     0\n",
              "1  Happy holidays from our team! Wishing you joy ...   ham      73     0\n",
              "2  We're hiring! Check out our career opportuniti...   ham      75     0\n",
              "3  Your Amazon account has been locked. Click her...  spam      83     1\n",
              "4  Your opinion matters! Take our survey and help...   ham      74     0"
            ]
          },
          "execution_count": 11,
          "metadata": {},
          "output_type": "execute_result"
        }
      ],
      "source": [
        "df['spam'] = df['label'].map({'ham': 0, 'spam': 1})\n",
        "df.head()"
      ]
    },
    {
      "cell_type": "code",
      "execution_count": 12,
      "metadata": {
        "id": "jaKcV9FbBA9p"
      },
      "outputs": [],
      "source": [
        "df.drop('label', axis=1, inplace=True) # and now we will delete the extra column with the original names"
      ]
    },
    {
      "cell_type": "code",
      "execution_count": 13,
      "metadata": {
        "colab": {
          "base_uri": "https://localhost:8080/",
          "height": 407
        },
        "id": "rJ2MlmRWBBAC",
        "outputId": "98e13633-276f-4406-f5fd-7809fba8bf5e"
      },
      "outputs": [
        {
          "data": {
            "text/html": [
              "<div>\n",
              "<style scoped>\n",
              "    .dataframe tbody tr th:only-of-type {\n",
              "        vertical-align: middle;\n",
              "    }\n",
              "\n",
              "    .dataframe tbody tr th {\n",
              "        vertical-align: top;\n",
              "    }\n",
              "\n",
              "    .dataframe thead th {\n",
              "        text-align: right;\n",
              "    }\n",
              "</style>\n",
              "<table border=\"1\" class=\"dataframe\">\n",
              "  <thead>\n",
              "    <tr style=\"text-align: right;\">\n",
              "      <th></th>\n",
              "      <th>email</th>\n",
              "      <th>length</th>\n",
              "      <th>spam</th>\n",
              "    </tr>\n",
              "  </thead>\n",
              "  <tbody>\n",
              "    <tr>\n",
              "      <th>0</th>\n",
              "      <td>Upgrade to our premium plan for exclusive acce...</td>\n",
              "      <td>81</td>\n",
              "      <td>0</td>\n",
              "    </tr>\n",
              "    <tr>\n",
              "      <th>1</th>\n",
              "      <td>Happy holidays from our team! Wishing you joy ...</td>\n",
              "      <td>73</td>\n",
              "      <td>0</td>\n",
              "    </tr>\n",
              "    <tr>\n",
              "      <th>2</th>\n",
              "      <td>We're hiring! Check out our career opportuniti...</td>\n",
              "      <td>75</td>\n",
              "      <td>0</td>\n",
              "    </tr>\n",
              "    <tr>\n",
              "      <th>3</th>\n",
              "      <td>Your Amazon account has been locked. Click her...</td>\n",
              "      <td>83</td>\n",
              "      <td>1</td>\n",
              "    </tr>\n",
              "    <tr>\n",
              "      <th>4</th>\n",
              "      <td>Your opinion matters! Take our survey and help...</td>\n",
              "      <td>74</td>\n",
              "      <td>0</td>\n",
              "    </tr>\n",
              "  </tbody>\n",
              "</table>\n",
              "</div>"
            ],
            "text/plain": [
              "                                               email  length  spam\n",
              "0  Upgrade to our premium plan for exclusive acce...      81     0\n",
              "1  Happy holidays from our team! Wishing you joy ...      73     0\n",
              "2  We're hiring! Check out our career opportuniti...      75     0\n",
              "3  Your Amazon account has been locked. Click her...      83     1\n",
              "4  Your opinion matters! Take our survey and help...      74     0"
            ]
          },
          "execution_count": 13,
          "metadata": {},
          "output_type": "execute_result"
        }
      ],
      "source": [
        "df.head()"
      ]
    },
    {
      "cell_type": "markdown",
      "metadata": {
        "id": "GnlKnIY5b9Vg"
      },
      "source": [
        "## Clearing Text Data"
      ]
    },
    {
      "cell_type": "markdown",
      "metadata": {
        "id": "nZQ2BUKKBoiG"
      },
      "source": [
        "The text contains a lot of information that will only interfere with classification. Let's clean it up. To figure out how to do this, we'll use regular expressions to remove some unnecessary characters, such as:\n",
        "* email addresses\n",
        "* web addresses\n",
        "* numbers\n",
        "* currency symbols\n",
        "* punctuation marks"
      ]
    },
    {
      "cell_type": "markdown",
      "metadata": {
        "id": "JKadjLv0hyA0"
      },
      "source": [
        "Original text (before processing)"
      ]
    },
    {
      "cell_type": "code",
      "execution_count": 14,
      "metadata": {
        "colab": {
          "base_uri": "https://localhost:8080/"
        },
        "id": "kHPLcSzwhr4E",
        "outputId": "a2b64ad5-61fe-45dc-896c-55c6989c0ef0"
      },
      "outputs": [
        {
          "name": "stdout",
          "output_type": "stream",
          "text": [
            "0      Upgrade to our premium plan for exclusive acce...\n",
            "1      Happy holidays from our team! Wishing you joy ...\n",
            "2      We're hiring! Check out our career opportuniti...\n",
            "3      Your Amazon account has been locked. Click her...\n",
            "4      Your opinion matters! Take our survey and help...\n",
            "                             ...                        \n",
            "174    We're pleased to inform you that your refund h...\n",
            "175    Get rich quick! Invest in our revolutionary ne...\n",
            "176    Your free trial period is ending soon. Upgrade...\n",
            "177    Your order is on its way! Track your shipment ...\n",
            "178    Limited-time offer! Get 50% off on all purchas...\n",
            "Name: email, Length: 179, dtype: object\n"
          ]
        }
      ],
      "source": [
        "print(df['email'])"
      ]
    },
    {
      "cell_type": "code",
      "execution_count": 15,
      "metadata": {
        "colab": {
          "base_uri": "https://localhost:8080/"
        },
        "id": "Gz5nmo9BBBCO",
        "outputId": "dd159510-591e-4c2d-e19c-ebe9ef62243e"
      },
      "outputs": [
        {
          "name": "stdout",
          "output_type": "stream",
          "text": [
            "0      upgrade to our premium plan for exclusive acce...\n",
            "1      happy holidays from our team! wishing you joy ...\n",
            "2      we're hiring! check out our career opportuniti...\n",
            "3      your amazon account has been locked. click her...\n",
            "4      your opinion matters! take our survey and help...\n",
            "                             ...                        \n",
            "174    we're pleased to inform you that your refund h...\n",
            "175    get rich quick! invest in our revolutionary ne...\n",
            "176    your free trial period is ending soon. upgrade...\n",
            "177    your order is on its way! track your shipment ...\n",
            "178    limited-time offer! get 50% off on all purchas...\n",
            "Name: email, Length: 179, dtype: object\n"
          ]
        }
      ],
      "source": [
        "# Replacing email addresses with the word 'email'\n",
        "processed = df['email'].str.replace(r'^.+@[^\\.].*\\.[a-z]{2,}$', 'email')\n",
        "\n",
        "# Replacing web addresses with the word 'webaddress'\n",
        "processed = processed.str.replace(r'^http\\://[a-zA-Z0-9\\-\\.]+\\.[a-zA-Z]{2,3}(/\\S*)?$', 'webaddress')\n",
        "\n",
        "# Replacing currency symbols with the word 'moneysymb' (The \"£\" symbol can be typed using Alt and the code 0163)\n",
        "processed = processed.str.replace(r'£|\\$', 'moneysymb')\n",
        "\n",
        "# Replacing 10-digit phone numbers with the word 'phonenumber' (including special characters)\n",
        "processed = processed.str.replace(r'^\\(?[\\d]{3}\\)?[\\s-]?[\\d]{3}[\\s-]?[\\d]{4}$', 'phonenumbr')\n",
        "\n",
        "# Replacing other numbers with the word 'numbr'\n",
        "processed = processed.str.replace(r'\\d+(\\.\\d+)?', 'numbr')\n",
        "\n",
        "# Removing punctuation marks\n",
        "processed = processed.str.replace(r'[^\\w\\d\\s]', ' ')\n",
        "\n",
        "# Removing extra spaces (replacing several consecutive spaces with one)\n",
        "processed = processed.str.replace(r'\\s+', ' ')\n",
        "\n",
        "# Removing spaces at the beginning and at the end\n",
        "processed = processed.str.replace(r'^\\s+|\\s+?$', '')\n",
        "\n",
        "# Converting characters to lowercase\n",
        "processed = processed.str.lower()\n",
        "\n",
        "# Now let's look at what we got\n",
        "print(processed)"
      ]
    },
    {
      "cell_type": "markdown",
      "metadata": {
        "id": "CelFvQp9MGIF"
      },
      "source": [
        "You can also remove stop words. It is convenient to use the NLTK library for this"
      ]
    },
    {
      "cell_type": "code",
      "execution_count": 16,
      "metadata": {
        "colab": {
          "base_uri": "https://localhost:8080/"
        },
        "id": "igB6ArCgBBEt",
        "outputId": "e194bf42-b341-4802-f919-ba2816a8de26"
      },
      "outputs": [],
      "source": [
        "stop_words = set(nltk.corpus.stopwords.words('english'))"
      ]
    },
    {
      "cell_type": "markdown",
      "metadata": {
        "id": "adrvCmo3iqsz"
      },
      "source": [
        "Let's look at some examples of stop words"
      ]
    },
    {
      "cell_type": "code",
      "execution_count": 17,
      "metadata": {
        "colab": {
          "base_uri": "https://localhost:8080/"
        },
        "id": "Hfp4ZG6GiIZe",
        "outputId": "a1ff4c9a-31ab-4019-af45-e9f40e4e04b1"
      },
      "outputs": [
        {
          "data": {
            "text/plain": [
              "[\"should've\",\n",
              " 'or',\n",
              " 'me',\n",
              " 'did',\n",
              " 'the',\n",
              " 'just',\n",
              " 'ain',\n",
              " 'been',\n",
              " 'by',\n",
              " 'will',\n",
              " 'some',\n",
              " 'where',\n",
              " 'against',\n",
              " 'all',\n",
              " 'll',\n",
              " 'through',\n",
              " \"didn't\",\n",
              " 'here',\n",
              " 'an',\n",
              " 'below',\n",
              " 'ma',\n",
              " 'at',\n",
              " 'itself',\n",
              " 'myself',\n",
              " 'our',\n",
              " 'into',\n",
              " 'no',\n",
              " 'these',\n",
              " 'too',\n",
              " 'won',\n",
              " \"hasn't\",\n",
              " 'yourself',\n",
              " 'ours',\n",
              " \"aren't\",\n",
              " 'hasn',\n",
              " 'mightn',\n",
              " 'not',\n",
              " 'he',\n",
              " 'do',\n",
              " 'such',\n",
              " \"shouldn't\",\n",
              " 'how',\n",
              " 'doesn',\n",
              " 'once',\n",
              " 'yourselves',\n",
              " 'until',\n",
              " 'on',\n",
              " 'off',\n",
              " 'them',\n",
              " 'again',\n",
              " 'your',\n",
              " 'between',\n",
              " 'to',\n",
              " 'can',\n",
              " \"couldn't\",\n",
              " 'd',\n",
              " 'aren',\n",
              " 'this',\n",
              " 're',\n",
              " \"she's\",\n",
              " 'haven',\n",
              " 'needn',\n",
              " \"won't\",\n",
              " 'they',\n",
              " 'both',\n",
              " 's',\n",
              " 'whom',\n",
              " 'shouldn',\n",
              " 'and',\n",
              " 'couldn',\n",
              " 'isn',\n",
              " 'above',\n",
              " 'for',\n",
              " 'why',\n",
              " 'if',\n",
              " 'up',\n",
              " 'during',\n",
              " 'when',\n",
              " 'other',\n",
              " 'her',\n",
              " 'his',\n",
              " 'under',\n",
              " \"you'll\",\n",
              " 'himself',\n",
              " \"shan't\",\n",
              " 'who',\n",
              " 've',\n",
              " \"needn't\",\n",
              " 'very',\n",
              " \"you're\",\n",
              " 'after',\n",
              " \"wouldn't\",\n",
              " 'themselves',\n",
              " \"you'd\",\n",
              " 'should',\n",
              " 'down',\n",
              " 'out',\n",
              " 'm',\n",
              " 'she',\n",
              " 'was',\n",
              " 'while',\n",
              " 'were',\n",
              " 'has',\n",
              " 'that',\n",
              " 'most',\n",
              " 'only',\n",
              " 'own',\n",
              " 'it',\n",
              " 'had',\n",
              " 'doing',\n",
              " \"wasn't\",\n",
              " \"that'll\",\n",
              " 'then',\n",
              " 'what',\n",
              " 'a',\n",
              " 'because',\n",
              " \"haven't\",\n",
              " 'but',\n",
              " 'hadn',\n",
              " \"weren't\",\n",
              " 'further',\n",
              " \"you've\",\n",
              " 'being',\n",
              " 'him',\n",
              " 'herself',\n",
              " 'before',\n",
              " 'its',\n",
              " 'my',\n",
              " 'those',\n",
              " 'few',\n",
              " 'their',\n",
              " 'with',\n",
              " 'each',\n",
              " 'we',\n",
              " 'ourselves',\n",
              " \"mightn't\",\n",
              " 'am',\n",
              " 'than',\n",
              " 'over',\n",
              " 'from',\n",
              " 'about',\n",
              " 'of',\n",
              " 'don',\n",
              " 'didn',\n",
              " 'as',\n",
              " \"hadn't\",\n",
              " 'yours',\n",
              " 'be',\n",
              " 'i',\n",
              " 'shan',\n",
              " 'have',\n",
              " 't',\n",
              " \"mustn't\",\n",
              " \"don't\",\n",
              " 'o',\n",
              " 'which',\n",
              " 'theirs',\n",
              " 'more',\n",
              " 'y',\n",
              " 'hers',\n",
              " 'in',\n",
              " 'having',\n",
              " 'so',\n",
              " 'there',\n",
              " 'are',\n",
              " 'now',\n",
              " 'is',\n",
              " 'any',\n",
              " 'weren',\n",
              " 'you',\n",
              " 'nor',\n",
              " 'mustn',\n",
              " 'does',\n",
              " 'wasn',\n",
              " \"doesn't\",\n",
              " \"isn't\",\n",
              " 'wouldn',\n",
              " 'same',\n",
              " \"it's\"]"
            ]
          },
          "execution_count": 17,
          "metadata": {},
          "output_type": "execute_result"
        }
      ],
      "source": [
        "list(stop_words)"
      ]
    },
    {
      "cell_type": "markdown",
      "metadata": {
        "id": "t4wb0BvGi5Hh"
      },
      "source": [
        "Remove all stop words from message text"
      ]
    },
    {
      "cell_type": "code",
      "execution_count": 18,
      "metadata": {
        "id": "fD_E_KnFipmU"
      },
      "outputs": [],
      "source": [
        "processed = processed.apply(lambda x: ' '.join(term for term in x.split() if term not in stop_words))"
      ]
    },
    {
      "cell_type": "code",
      "execution_count": 19,
      "metadata": {
        "colab": {
          "base_uri": "https://localhost:8080/"
        },
        "id": "bceR7UvKjXbw",
        "outputId": "1202d3e3-9576-453e-9ebe-187c80793546"
      },
      "outputs": [
        {
          "name": "stdout",
          "output_type": "stream",
          "text": [
            "0      upgrade premium plan exclusive access premium ...\n",
            "1      happy holidays team! wishing joy prosperity se...\n",
            "2      we're hiring! check career opportunities join ...\n",
            "3      amazon account locked. click verify account in...\n",
            "4      opinion matters! take survey help us enhance e...\n",
            "                             ...                        \n",
            "174    we're pleased inform refund processed successf...\n",
            "175    get rich quick! invest revolutionary new schem...\n",
            "176    free trial period ending soon. upgrade continu...\n",
            "177         order way! track shipment real-time updates.\n",
            "178    limited-time offer! get 50% purchases today on...\n",
            "Name: email, Length: 179, dtype: object\n"
          ]
        }
      ],
      "source": [
        "print(processed)"
      ]
    },
    {
      "cell_type": "markdown",
      "metadata": {
        "id": "pxScGtM8MaYZ"
      },
      "source": [
        "There are still a lot of different words. Let's apply stemming - a method for finding the basis of words - in the hope that there will be fewer different words. For this, we will use a ready-made module - PorterStemmer from the already familiar NLTK library"
      ]
    },
    {
      "cell_type": "code",
      "execution_count": 20,
      "metadata": {
        "id": "9Mdx_R2SMFRp"
      },
      "outputs": [],
      "source": [
        "ps = PorterStemmer()\n",
        "processed_stem = processed.apply(lambda x: ' '.join(ps.stem(term) for term in x.split()))"
      ]
    },
    {
      "cell_type": "code",
      "execution_count": 21,
      "metadata": {
        "colab": {
          "base_uri": "https://localhost:8080/"
        },
        "id": "sC8Pl3N9j4y4",
        "outputId": "2291514e-0325-4503-ee9b-afbe3c22ed47"
      },
      "outputs": [
        {
          "name": "stdout",
          "output_type": "stream",
          "text": [
            "0      upgrad premium plan exclus access premium cont...\n",
            "1           happi holiday team! wish joy prosper season.\n",
            "2      we'r hiring! check career opportun join dynam ...\n",
            "3      amazon account locked. click verifi account in...\n",
            "4      opinion matters! take survey help us enhanc ex...\n",
            "                             ...                        \n",
            "174       we'r pleas inform refund process successfully.\n",
            "175    get rich quick! invest revolutionari new schem...\n",
            "176    free trial period end soon. upgrad continu enj...\n",
            "177          order way! track shipment real-tim updates.\n",
            "178    limited-tim offer! get 50% purchas today only....\n",
            "Name: email, Length: 179, dtype: object\n"
          ]
        }
      ],
      "source": [
        "print(processed_stem)"
      ]
    },
    {
      "cell_type": "markdown",
      "metadata": {
        "id": "AXyG1KNeMfRT"
      },
      "source": [
        "## Creating Features"
      ]
    },
    {
      "cell_type": "markdown",
      "metadata": {
        "id": "UqUGayBnMikN"
      },
      "source": [
        "There is a lot of data, and besides, it is categorical, and most ML models use only numerical characteristics. Therefore, we use the \"Bag of words\" approach, which will help extract numerical features from text data\n",
        "\n",
        "For this, we will again use a ready-made module - Scikit learn, and with its help we will select the 1500 most frequently occurring words, for which we will make a markup"
      ]
    },
    {
      "cell_type": "code",
      "execution_count": 22,
      "metadata": {
        "id": "kL3oyC9vMFTm"
      },
      "outputs": [],
      "source": [
        "cv = CountVectorizer(max_features=1500) # 1500 words in the form of signs\n",
        "X_cv = cv.fit_transform(processed_stem).toarray()"
      ]
    },
    {
      "cell_type": "markdown",
      "metadata": {
        "id": "MCC43OjTOfiS"
      },
      "source": [
        "If you look at X, you can see that the number of samples has remained the same, but the features have become 1500 - these are the most popular words"
      ]
    },
    {
      "cell_type": "code",
      "execution_count": 23,
      "metadata": {
        "colab": {
          "base_uri": "https://localhost:8080/"
        },
        "id": "QUiNmbvYMFWF",
        "outputId": "62b7db2e-8152-4dd2-e578-8f4ee49bb659"
      },
      "outputs": [
        {
          "data": {
            "text/plain": [
              "(179, 444)"
            ]
          },
          "execution_count": 23,
          "metadata": {},
          "output_type": "execute_result"
        }
      ],
      "source": [
        "X_cv.shape"
      ]
    },
    {
      "cell_type": "markdown",
      "metadata": {
        "id": "iH6Y2TLLmHmX"
      },
      "source": [
        "## Training and test datasets"
      ]
    },
    {
      "cell_type": "markdown",
      "metadata": {
        "id": "T1tw-gsCOjX-"
      },
      "source": [
        "We will divide the data into test and training parts, with the training part being 20%"
      ]
    },
    {
      "cell_type": "code",
      "execution_count": 24,
      "metadata": {
        "id": "SRocyG4fMFYZ"
      },
      "outputs": [],
      "source": [
        "# Divide our data into train and test\n",
        "X_train, X_test, y_train, y_test = train_test_split(X_cv, df[\"spam\"], test_size=0.20, random_state=42)"
      ]
    },
    {
      "cell_type": "code",
      "execution_count": 25,
      "metadata": {
        "colab": {
          "base_uri": "https://localhost:8080/"
        },
        "id": "ZPf5srfAmQG9",
        "outputId": "35282ddb-0416-452c-95d3-d7306d921ab3"
      },
      "outputs": [
        {
          "name": "stdout",
          "output_type": "stream",
          "text": [
            "(143, 444) (36, 444) (143,) (36,)\n"
          ]
        }
      ],
      "source": [
        "print(X_train.shape, X_test.shape, y_train.shape, y_test.shape)"
      ]
    },
    {
      "cell_type": "markdown",
      "metadata": {
        "id": "fkjRPlk7Oxlf"
      },
      "source": [
        "# Creating a model"
      ]
    },
    {
      "cell_type": "markdown",
      "metadata": {
        "id": "3uwh5ECSmbQD"
      },
      "source": [
        "## Ready model from the library"
      ]
    },
    {
      "cell_type": "markdown",
      "metadata": {
        "id": "Y6vkx8LxmhwW"
      },
      "source": [
        "In order to see how the finished model works, we use high-level functions"
      ]
    },
    {
      "cell_type": "code",
      "execution_count": 26,
      "metadata": {
        "id": "TsA2N504MFau"
      },
      "outputs": [],
      "source": [
        "knn = KNeighborsClassifier(n_neighbors = 1) # initialize model (with given hyperparameters)\n",
        "knn.fit(X_train, y_train.values.ravel()) # train on training data\n",
        "pred_knn = knn.predict(X_test) # and finally predict test data"
      ]
    },
    {
      "cell_type": "markdown",
      "metadata": {
        "id": "6KMAqoXKm32E"
      },
      "source": [
        "Let's see what happened with the prediction. We use standard metrics - accuracy, recall and F1-measure"
      ]
    },
    {
      "cell_type": "code",
      "execution_count": 27,
      "metadata": {
        "colab": {
          "base_uri": "https://localhost:8080/"
        },
        "id": "VbibO1iGMFiX",
        "outputId": "db3814d0-d4db-4712-fd58-e3e2a57f1670"
      },
      "outputs": [
        {
          "name": "stdout",
          "output_type": "stream",
          "text": [
            "Accuracy: 91.66666666666666% \n",
            "\n",
            "[[12  2]\n",
            " [ 1 21]]\n",
            "              precision    recall  f1-score   support\n",
            "\n",
            "           0       0.92      0.86      0.89        14\n",
            "           1       0.91      0.95      0.93        22\n",
            "\n",
            "    accuracy                           0.92        36\n",
            "   macro avg       0.92      0.91      0.91        36\n",
            "weighted avg       0.92      0.92      0.92        36\n",
            "\n"
          ]
        }
      ],
      "source": [
        "print('Accuracy: {}% \\n'.format(accuracy_score(y_test, pred_knn) * 100)) # number of correct predictions in %\n",
        "print(confusion_matrix(y_test, pred_knn)) # matrix displaying errors of type 1 and type 2\n",
        "print(classification_report(y_test, pred_knn))"
      ]
    },
    {
      "cell_type": "markdown",
      "metadata": {
        "id": "sqIi2iYxPJT2"
      },
      "source": [
        "## Now we need to implement KNN ourselves..."
      ]
    },
    {
      "cell_type": "markdown",
      "metadata": {
        "id": "GdE03mHXqCAJ"
      },
      "source": [
        "For more details (and tips if needed), please see the links below or any other convenient source:\n",
        "* https://realpython.com/knn-python/\n",
        "* https://machinelearningmastery.com/tutorial-to-implement-k-nearest-neighbors-in-python-from-scratch/"
      ]
    },
    {
      "cell_type": "code",
      "execution_count": 28,
      "metadata": {
        "id": "a-i1_NOEMFkq"
      },
      "outputs": [],
      "source": [
        "class KNN(BaseEstimator, ClassifierMixin):\n",
        "    \"\"\"\n",
        "    K-nearest neighbor classifier compatible with scikit-learn, supporting different distance metrics.\n",
        "    \"\"\"\n",
        "    def __init__(self, k=1, distance_metric='euclidean'):\n",
        "        self.k = k\n",
        "        self.distance_metric = distance_metric\n",
        "\n",
        "    def fit(self, X, y):\n",
        "        \"\"\"\n",
        "        Fit the classifier on the training data.\n",
        "        Arguments:\n",
        "          X: np array (num_samples, num_features) - training data\n",
        "          y: np array (num_samples,) - training labels\n",
        "        \"\"\"\n",
        "        self.train_X = X\n",
        "        self.train_y = y\n",
        "        self.classes_ = np.unique(y)\n",
        "\n",
        "    def predict(self, X):\n",
        "        '''\n",
        "        Predict the labels for the test data using the KNN classifier.\n",
        "        Arguments:\n",
        "          X: np array (num_samples, num_features) - data for prediction\n",
        "        Returns:\n",
        "          predictions: np array (num_samples,) - predicted classes for each sample in X\n",
        "        '''\n",
        "        dists = self.compute_distances(X)\n",
        "        return self.predict_labels_binary(dists)\n",
        "\n",
        "    def compute_distances(self, X):\n",
        "        '''\n",
        "        Calculate the distance between each test sample and each training sample.\n",
        "        Supports both Euclidean and Manhattan distances.\n",
        "        Arguments:\n",
        "          X: np array (num_test_samples, num_features) - test samples\n",
        "        Returns:\n",
        "          dists: np array (num_test_samples, num_train_samples) - distances\n",
        "          from each test sample to each training sample\n",
        "        '''\n",
        "        if self.distance_metric == 'euclidean':\n",
        "            dists = np.sqrt(np.sum(X**2, axis=1, keepdims=True) +\n",
        "                            np.sum(self.train_X**2, axis=1) -\n",
        "                            2 * np.dot(X, self.train_X.T))\n",
        "        elif self.distance_metric == 'manhattan':\n",
        "            dists = np.abs(X[:, np.newaxis] - self.train_X).sum(axis=2)\n",
        "        else:\n",
        "            raise ValueError(f\"Unsupported distance metric: {self.distance_metric}\")\n",
        "        return dists\n",
        "\n",
        "    def predict_labels_binary(self, dists):\n",
        "        '''\n",
        "        Predict the label for each test sample based on the K-nearest neighbors.\n",
        "        Arguments:\n",
        "          dists: np array (num_test_samples, num_train_samples) - distances\n",
        "          from each test sample to each training sample\n",
        "        Returns:\n",
        "          pred: np array (num_test_samples,) - predicted binary labels\n",
        "        '''\n",
        "        num_test = dists.shape[0]\n",
        "        pred = np.zeros(num_test, dtype=int)\n",
        "\n",
        "        for i in range(num_test):\n",
        "            nearest_neighbors = np.argsort(dists[i])[:self.k]\n",
        "            closest_y = self.train_y[nearest_neighbors]\n",
        "            pred[i] = np.argmax(np.bincount(closest_y.astype(int)))\n",
        "\n",
        "        return pred\n",
        "\n",
        "    def get_params(self, deep=True):\n",
        "        \"\"\"\n",
        "        Return parameters of the estimator for compatibility with GridSearchCV.\n",
        "        \"\"\"\n",
        "        return {\"k\": self.k, \"distance_metric\": self.distance_metric}\n",
        "\n",
        "    def set_params(self, **params):\n",
        "        \"\"\"\n",
        "        Set parameters of the estimator for compatibility with GridSearchCV.\n",
        "        \"\"\"\n",
        "        for key, value in params.items():\n",
        "            setattr(self, key, value)\n",
        "        return self\n"
      ]
    },
    {
      "cell_type": "markdown",
      "metadata": {
        "id": "k_n9_51hnj-G"
      },
      "source": [
        "Now that the classifier is written, it can be trained."
      ]
    },
    {
      "cell_type": "code",
      "execution_count": 29,
      "metadata": {
        "id": "087ba5hEMFm-"
      },
      "outputs": [],
      "source": [
        "knn_clf = KNN(k=1)\n",
        "knn_clf.fit(X_train, y_train.values.ravel())"
      ]
    },
    {
      "cell_type": "markdown",
      "metadata": {
        "id": "ScaSQq18nlvx"
      },
      "source": [
        "And make a prediction (this may take some time, so let's try it on a part of the dataset)"
      ]
    },
    {
      "cell_type": "code",
      "execution_count": 30,
      "metadata": {
        "id": "BoHbh6zuMFpV"
      },
      "outputs": [],
      "source": [
        "pred_clf = knn_clf.predict(X_test)"
      ]
    },
    {
      "cell_type": "code",
      "execution_count": 31,
      "metadata": {
        "colab": {
          "base_uri": "https://localhost:8080/"
        },
        "id": "8081FrcQMFrs",
        "outputId": "e6d8403a-190a-44c2-d5f4-b78ccbd5c697"
      },
      "outputs": [
        {
          "name": "stdout",
          "output_type": "stream",
          "text": [
            "Accuracy: 91.66666666666666% \n",
            "\n",
            "[[12  2]\n",
            " [ 1 21]]\n",
            "              precision    recall  f1-score   support\n",
            "\n",
            "           0       0.92      0.86      0.89        14\n",
            "           1       0.91      0.95      0.93        22\n",
            "\n",
            "    accuracy                           0.92        36\n",
            "   macro avg       0.92      0.91      0.91        36\n",
            "weighted avg       0.92      0.92      0.92        36\n",
            "\n"
          ]
        }
      ],
      "source": [
        "print('Accuracy: {}% \\n'.format(accuracy_score(y_test, pred_clf) * 100))\n",
        "print(confusion_matrix(y_test, pred_clf))\n",
        "print(classification_report(y_test, pred_clf))"
      ]
    },
    {
      "cell_type": "markdown",
      "metadata": {
        "id": "AC0MmXP7oRmW"
      },
      "source": [
        "## Tuning the classifier"
      ]
    },
    {
      "cell_type": "markdown",
      "metadata": {
        "id": "XLwfcB0Wlk67"
      },
      "source": [
        "What can be done to improve accuracy?\n",
        "\n",
        "Experiment with the data - for example, add a feature \"text message length\" that was calculated but not used in training and prediction.\n",
        "Explore a different set of hyperparameters or a different model architecture.\n",
        "\n",
        "Try to improve the accuracy of your model"
      ]
    },
    {
      "cell_type": "code",
      "execution_count": 32,
      "metadata": {},
      "outputs": [
        {
          "name": "stdout",
          "output_type": "stream",
          "text": [
            "Best parameters: {'distance_metric': 'manhattan', 'k': 7}\n",
            "Best cross-validated accuracy: 0.8871921182266009\n"
          ]
        }
      ],
      "source": [
        "knn_classifier_with_params = KNN()\n",
        "\n",
        "param_grid = {\n",
        "    'k': [1, 3, 5, 7, 9, 11, 15, 20],\n",
        "    'distance_metric': ['euclidean', 'manhattan']\n",
        "}\n",
        "\n",
        "grid_search = GridSearchCV(knn_classifier_with_params, param_grid, cv=5, scoring='accuracy')\n",
        "\n",
        "grid_search.fit(X_train, y_train.values.ravel())\n",
        "\n",
        "# Get the best hyperparameters and accuracy\n",
        "print(\"Best parameters:\", grid_search.best_params_)\n",
        "print(\"Best cross-validated accuracy:\", grid_search.best_score_)"
      ]
    },
    {
      "cell_type": "code",
      "execution_count": 33,
      "metadata": {},
      "outputs": [],
      "source": [
        "pred_modif = grid_search.predict(X_test)"
      ]
    },
    {
      "cell_type": "code",
      "execution_count": 34,
      "metadata": {},
      "outputs": [
        {
          "name": "stdout",
          "output_type": "stream",
          "text": [
            "Accuracy: 97.22222222222221% \n",
            "\n",
            "[[13  1]\n",
            " [ 0 22]]\n",
            "              precision    recall  f1-score   support\n",
            "\n",
            "           0       1.00      0.93      0.96        14\n",
            "           1       0.96      1.00      0.98        22\n",
            "\n",
            "    accuracy                           0.97        36\n",
            "   macro avg       0.98      0.96      0.97        36\n",
            "weighted avg       0.97      0.97      0.97        36\n",
            "\n"
          ]
        }
      ],
      "source": [
        "print('Accuracy: {}% \\n'.format(accuracy_score(y_test, pred_modif) * 100))\n",
        "print(confusion_matrix(y_test, pred_modif))\n",
        "print(classification_report(y_test, pred_modif))"
      ]
    },
    {
      "cell_type": "markdown",
      "metadata": {},
      "source": [
        "## Using Spacy"
      ]
    },
    {
      "cell_type": "code",
      "execution_count": 35,
      "metadata": {},
      "outputs": [
        {
          "data": {
            "text/html": [
              "<div>\n",
              "<style scoped>\n",
              "    .dataframe tbody tr th:only-of-type {\n",
              "        vertical-align: middle;\n",
              "    }\n",
              "\n",
              "    .dataframe tbody tr th {\n",
              "        vertical-align: top;\n",
              "    }\n",
              "\n",
              "    .dataframe thead th {\n",
              "        text-align: right;\n",
              "    }\n",
              "</style>\n",
              "<table border=\"1\" class=\"dataframe\">\n",
              "  <thead>\n",
              "    <tr style=\"text-align: right;\">\n",
              "      <th></th>\n",
              "      <th>email</th>\n",
              "      <th>length</th>\n",
              "      <th>spam</th>\n",
              "    </tr>\n",
              "  </thead>\n",
              "  <tbody>\n",
              "    <tr>\n",
              "      <th>0</th>\n",
              "      <td>Upgrade to our premium plan for exclusive acce...</td>\n",
              "      <td>81</td>\n",
              "      <td>0</td>\n",
              "    </tr>\n",
              "    <tr>\n",
              "      <th>1</th>\n",
              "      <td>Happy holidays from our team! Wishing you joy ...</td>\n",
              "      <td>73</td>\n",
              "      <td>0</td>\n",
              "    </tr>\n",
              "    <tr>\n",
              "      <th>2</th>\n",
              "      <td>We're hiring! Check out our career opportuniti...</td>\n",
              "      <td>75</td>\n",
              "      <td>0</td>\n",
              "    </tr>\n",
              "    <tr>\n",
              "      <th>3</th>\n",
              "      <td>Your Amazon account has been locked. Click her...</td>\n",
              "      <td>83</td>\n",
              "      <td>1</td>\n",
              "    </tr>\n",
              "    <tr>\n",
              "      <th>4</th>\n",
              "      <td>Your opinion matters! Take our survey and help...</td>\n",
              "      <td>74</td>\n",
              "      <td>0</td>\n",
              "    </tr>\n",
              "    <tr>\n",
              "      <th>...</th>\n",
              "      <td>...</td>\n",
              "      <td>...</td>\n",
              "      <td>...</td>\n",
              "    </tr>\n",
              "    <tr>\n",
              "      <th>174</th>\n",
              "      <td>We're pleased to inform you that your refund h...</td>\n",
              "      <td>77</td>\n",
              "      <td>0</td>\n",
              "    </tr>\n",
              "    <tr>\n",
              "      <th>175</th>\n",
              "      <td>Get rich quick! Invest in our revolutionary ne...</td>\n",
              "      <td>72</td>\n",
              "      <td>1</td>\n",
              "    </tr>\n",
              "    <tr>\n",
              "      <th>176</th>\n",
              "      <td>Your free trial period is ending soon. Upgrade...</td>\n",
              "      <td>85</td>\n",
              "      <td>0</td>\n",
              "    </tr>\n",
              "    <tr>\n",
              "      <th>177</th>\n",
              "      <td>Your order is on its way! Track your shipment ...</td>\n",
              "      <td>68</td>\n",
              "      <td>0</td>\n",
              "    </tr>\n",
              "    <tr>\n",
              "      <th>178</th>\n",
              "      <td>Limited-time offer! Get 50% off on all purchas...</td>\n",
              "      <td>76</td>\n",
              "      <td>1</td>\n",
              "    </tr>\n",
              "  </tbody>\n",
              "</table>\n",
              "<p>179 rows × 3 columns</p>\n",
              "</div>"
            ],
            "text/plain": [
              "                                                 email  length  spam\n",
              "0    Upgrade to our premium plan for exclusive acce...      81     0\n",
              "1    Happy holidays from our team! Wishing you joy ...      73     0\n",
              "2    We're hiring! Check out our career opportuniti...      75     0\n",
              "3    Your Amazon account has been locked. Click her...      83     1\n",
              "4    Your opinion matters! Take our survey and help...      74     0\n",
              "..                                                 ...     ...   ...\n",
              "174  We're pleased to inform you that your refund h...      77     0\n",
              "175  Get rich quick! Invest in our revolutionary ne...      72     1\n",
              "176  Your free trial period is ending soon. Upgrade...      85     0\n",
              "177  Your order is on its way! Track your shipment ...      68     0\n",
              "178  Limited-time offer! Get 50% off on all purchas...      76     1\n",
              "\n",
              "[179 rows x 3 columns]"
            ]
          },
          "execution_count": 35,
          "metadata": {},
          "output_type": "execute_result"
        }
      ],
      "source": [
        "df"
      ]
    },
    {
      "cell_type": "code",
      "execution_count": 36,
      "metadata": {},
      "outputs": [
        {
          "name": "stdout",
          "output_type": "stream",
          "text": [
            "Spacy english stopwords size: 326\n",
            "\n"
          ]
        },
        {
          "data": {
            "text/plain": [
              "\"fifteen did just will some all go seeming here used whoever thus whole nevertheless wherever yourself ours almost beside ‘re towards yourselves them between can moreover next re say seemed they and quite above for alone often if four never already up using his might whereupon n’t otherwise after becomes without she make was were except what a else but being rather forty its my their everyone than would over of 've whence yours fifty whatever although hers something are is n‘t does ‘d yet same three me whereafter by move an below indeed at whose itself no latterly amongst various upon not front such every eleven nowhere ‘m again off within around via ’re enough ‘ve afterwards whom meanwhile onto thereafter ’m name 'm really ‘s however should ’ve down while together beforehand ’s became only besides own it though then nobody per back done unless serious still before somehow us anyway mine whereby am seems as least side whenever i show see namely ’ll due six put in so now call twelve well eight everything much must hundred thence the been hereby get ten former through among top wherein noone our hereafter these he others several becoming take until your to mostly made this anyone cannot keep nothing when during 'd her thereby latter always very 're full themselves out everywhere ca therein has most that ever had because whither further him herself sometimes those few beyond each ourselves ’d empty about across have therefore whether behind seem regarding anywhere throughout more which somewhere even thereupon ‘ll formerly perhaps or two where against another toward someone bottom myself into since too n't last do amount how once herein on hence many none neither both why 's one first other twenty under hereupon himself thru also who either elsewhere may 'll doing anyhow five with whereas we from nine part be give along sometime less become please there any third sixty you nor anything could\""
            ]
          },
          "execution_count": 36,
          "metadata": {},
          "output_type": "execute_result"
        }
      ],
      "source": [
        "nlp = spacy.load(\"en_core_web_sm\")\n",
        "stopwords = nlp.Defaults.stop_words\n",
        "print(f'Spacy english stopwords size: {len(stopwords)}', end='\\n\\n')\n",
        "' '.join(stopwords)"
      ]
    },
    {
      "cell_type": "code",
      "execution_count": 37,
      "metadata": {},
      "outputs": [
        {
          "name": "stdout",
          "output_type": "stream",
          "text": [
            "CPU times: user 1.37 s, sys: 47.8 ms, total: 1.42 s\n",
            "Wall time: 1.55 s\n"
          ]
        },
        {
          "data": {
            "text/html": [
              "<div>\n",
              "<style scoped>\n",
              "    .dataframe tbody tr th:only-of-type {\n",
              "        vertical-align: middle;\n",
              "    }\n",
              "\n",
              "    .dataframe tbody tr th {\n",
              "        vertical-align: top;\n",
              "    }\n",
              "\n",
              "    .dataframe thead th {\n",
              "        text-align: right;\n",
              "    }\n",
              "</style>\n",
              "<table border=\"1\" class=\"dataframe\">\n",
              "  <thead>\n",
              "    <tr style=\"text-align: right;\">\n",
              "      <th></th>\n",
              "      <th>email</th>\n",
              "      <th>length</th>\n",
              "      <th>spam</th>\n",
              "      <th>cleaned_text</th>\n",
              "    </tr>\n",
              "  </thead>\n",
              "  <tbody>\n",
              "    <tr>\n",
              "      <th>0</th>\n",
              "      <td>Upgrade to our premium plan for exclusive acce...</td>\n",
              "      <td>81</td>\n",
              "      <td>0</td>\n",
              "      <td>upgrade premium plan exclusive access premium ...</td>\n",
              "    </tr>\n",
              "    <tr>\n",
              "      <th>1</th>\n",
              "      <td>Happy holidays from our team! Wishing you joy ...</td>\n",
              "      <td>73</td>\n",
              "      <td>0</td>\n",
              "      <td>happy holiday team wish joy prosperity season</td>\n",
              "    </tr>\n",
              "    <tr>\n",
              "      <th>2</th>\n",
              "      <td>We're hiring! Check out our career opportuniti...</td>\n",
              "      <td>75</td>\n",
              "      <td>0</td>\n",
              "      <td>hire check career opportunity join dynamic team</td>\n",
              "    </tr>\n",
              "    <tr>\n",
              "      <th>3</th>\n",
              "      <td>Your Amazon account has been locked. Click her...</td>\n",
              "      <td>83</td>\n",
              "      <td>1</td>\n",
              "      <td>amazon account lock click verify account infor...</td>\n",
              "    </tr>\n",
              "    <tr>\n",
              "      <th>4</th>\n",
              "      <td>Your opinion matters! Take our survey and help...</td>\n",
              "      <td>74</td>\n",
              "      <td>0</td>\n",
              "      <td>opinion matter survey help enhance experience</td>\n",
              "    </tr>\n",
              "    <tr>\n",
              "      <th>...</th>\n",
              "      <td>...</td>\n",
              "      <td>...</td>\n",
              "      <td>...</td>\n",
              "      <td>...</td>\n",
              "    </tr>\n",
              "    <tr>\n",
              "      <th>174</th>\n",
              "      <td>We're pleased to inform you that your refund h...</td>\n",
              "      <td>77</td>\n",
              "      <td>0</td>\n",
              "      <td>pleased inform refund process successfully</td>\n",
              "    </tr>\n",
              "    <tr>\n",
              "      <th>175</th>\n",
              "      <td>Get rich quick! Invest in our revolutionary ne...</td>\n",
              "      <td>72</td>\n",
              "      <td>1</td>\n",
              "      <td>rich quick invest revolutionary new scheme ret...</td>\n",
              "    </tr>\n",
              "    <tr>\n",
              "      <th>176</th>\n",
              "      <td>Your free trial period is ending soon. Upgrade...</td>\n",
              "      <td>85</td>\n",
              "      <td>0</td>\n",
              "      <td>free trial period end soon upgrade continue en...</td>\n",
              "    </tr>\n",
              "    <tr>\n",
              "      <th>177</th>\n",
              "      <td>Your order is on its way! Track your shipment ...</td>\n",
              "      <td>68</td>\n",
              "      <td>0</td>\n",
              "      <td>order way track shipment real time update</td>\n",
              "    </tr>\n",
              "    <tr>\n",
              "      <th>178</th>\n",
              "      <td>Limited-time offer! Get 50% off on all purchas...</td>\n",
              "      <td>76</td>\n",
              "      <td>1</td>\n",
              "      <td>limited time offer purchase today miss</td>\n",
              "    </tr>\n",
              "  </tbody>\n",
              "</table>\n",
              "<p>179 rows × 4 columns</p>\n",
              "</div>"
            ],
            "text/plain": [
              "                                                 email  length  spam  \\\n",
              "0    Upgrade to our premium plan for exclusive acce...      81     0   \n",
              "1    Happy holidays from our team! Wishing you joy ...      73     0   \n",
              "2    We're hiring! Check out our career opportuniti...      75     0   \n",
              "3    Your Amazon account has been locked. Click her...      83     1   \n",
              "4    Your opinion matters! Take our survey and help...      74     0   \n",
              "..                                                 ...     ...   ...   \n",
              "174  We're pleased to inform you that your refund h...      77     0   \n",
              "175  Get rich quick! Invest in our revolutionary ne...      72     1   \n",
              "176  Your free trial period is ending soon. Upgrade...      85     0   \n",
              "177  Your order is on its way! Track your shipment ...      68     0   \n",
              "178  Limited-time offer! Get 50% off on all purchas...      76     1   \n",
              "\n",
              "                                          cleaned_text  \n",
              "0    upgrade premium plan exclusive access premium ...  \n",
              "1        happy holiday team wish joy prosperity season  \n",
              "2      hire check career opportunity join dynamic team  \n",
              "3    amazon account lock click verify account infor...  \n",
              "4        opinion matter survey help enhance experience  \n",
              "..                                                 ...  \n",
              "174         pleased inform refund process successfully  \n",
              "175  rich quick invest revolutionary new scheme ret...  \n",
              "176  free trial period end soon upgrade continue en...  \n",
              "177          order way track shipment real time update  \n",
              "178             limited time offer purchase today miss  \n",
              "\n",
              "[179 rows x 4 columns]"
            ]
          },
          "execution_count": 37,
          "metadata": {},
          "output_type": "execute_result"
        }
      ],
      "source": [
        "%%time\n",
        "\n",
        "df['cleaned_text'] = df['email'].apply(\n",
        "    lambda x: ' '.join(\n",
        "        token.lemma_.lower() for token in nlp(x) if\n",
        "        not token.is_stop\n",
        "        and not token.is_punct\n",
        "        and not token.is_digit\n",
        "        and not token.like_email\n",
        "        and not token.like_num\n",
        "        and not token.is_space\n",
        "    )\n",
        ")\n",
        "df"
      ]
    },
    {
      "cell_type": "code",
      "execution_count": 38,
      "metadata": {},
      "outputs": [],
      "source": [
        "X_cv = cv.fit_transform(df['cleaned_text']).toarray()"
      ]
    },
    {
      "cell_type": "code",
      "execution_count": 39,
      "metadata": {},
      "outputs": [
        {
          "data": {
            "text/plain": [
              "(179, 372)"
            ]
          },
          "execution_count": 39,
          "metadata": {},
          "output_type": "execute_result"
        }
      ],
      "source": [
        "X_cv.shape"
      ]
    },
    {
      "cell_type": "code",
      "execution_count": 40,
      "metadata": {},
      "outputs": [],
      "source": [
        "X_train, X_test, y_train, y_test = train_test_split(X_cv, df[\"spam\"], test_size=0.20, random_state=42)"
      ]
    },
    {
      "cell_type": "code",
      "execution_count": 41,
      "metadata": {},
      "outputs": [
        {
          "name": "stdout",
          "output_type": "stream",
          "text": [
            "(143, 372) (36, 372) (143,) (36,)\n"
          ]
        }
      ],
      "source": [
        "print(X_train.shape, X_test.shape, y_train.shape, y_test.shape)"
      ]
    },
    {
      "cell_type": "code",
      "execution_count": 42,
      "metadata": {},
      "outputs": [
        {
          "name": "stdout",
          "output_type": "stream",
          "text": [
            "Best parameters: {'distance_metric': 'euclidean', 'k': 20}\n",
            "Best cross-validated accuracy: 0.972167487684729\n"
          ]
        }
      ],
      "source": [
        "knn_classifier_with_params = KNN()\n",
        "\n",
        "param_grid = {\n",
        "    'k': [1, 3, 5, 7, 9, 11, 15, 20],\n",
        "    'distance_metric': ['euclidean', 'manhattan']\n",
        "}\n",
        "\n",
        "grid_search = GridSearchCV(knn_classifier_with_params, param_grid, cv=5, scoring='accuracy')\n",
        "\n",
        "grid_search.fit(X_train, y_train.values.ravel())\n",
        "\n",
        "# Get the best hyperparameters and accuracy\n",
        "print(\"Best parameters:\", grid_search.best_params_)\n",
        "print(\"Best cross-validated accuracy:\", grid_search.best_score_)"
      ]
    },
    {
      "cell_type": "code",
      "execution_count": 43,
      "metadata": {},
      "outputs": [
        {
          "name": "stdout",
          "output_type": "stream",
          "text": [
            "Accuracy: 100.0% \n",
            "\n",
            "[[14  0]\n",
            " [ 0 22]]\n",
            "              precision    recall  f1-score   support\n",
            "\n",
            "           0       1.00      1.00      1.00        14\n",
            "           1       1.00      1.00      1.00        22\n",
            "\n",
            "    accuracy                           1.00        36\n",
            "   macro avg       1.00      1.00      1.00        36\n",
            "weighted avg       1.00      1.00      1.00        36\n",
            "\n"
          ]
        }
      ],
      "source": [
        "pred_modif = grid_search.predict(X_test)\n",
        "print('Accuracy: {}% \\n'.format(accuracy_score(y_test, pred_modif) * 100))\n",
        "print(confusion_matrix(y_test, pred_modif))\n",
        "print(classification_report(y_test, pred_modif))"
      ]
    }
  ],
  "metadata": {
    "colab": {
      "provenance": []
    },
    "kernelspec": {
      "display_name": "spam-env",
      "language": "python",
      "name": "python3"
    },
    "language_info": {
      "codemirror_mode": {
        "name": "ipython",
        "version": 3
      },
      "file_extension": ".py",
      "mimetype": "text/x-python",
      "name": "python",
      "nbconvert_exporter": "python",
      "pygments_lexer": "ipython3",
      "version": "3.12.4"
    }
  },
  "nbformat": 4,
  "nbformat_minor": 0
}
